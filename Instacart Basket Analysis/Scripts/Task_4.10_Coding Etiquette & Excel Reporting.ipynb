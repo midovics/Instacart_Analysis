{
 "cells": [
  {
   "cell_type": "markdown",
   "id": "b1f48314",
   "metadata": {},
   "source": [
    "# Table of Contents"
   ]
  },
  {
   "cell_type": "markdown",
   "id": "af819b0f",
   "metadata": {},
   "source": [
    "   1. Importing libraries and data\n",
    "   2. Data Privacy\n",
    "   3. Customer Profiling\n",
    "   3.1.1 Exclusion of customers with definite conditions\n",
    "   3.1.2 Customer behavior in different geographic areas. Regional segmentation of the data\n",
    "   3.1.3 Difference in spending habits between different U.S. regions\n",
    "   3.2 Grouping\n",
    "   3.2.1 Age Grouping\n",
    "   3.2.2 Income Grouping\n",
    "   3.2.3 Dependent Grouping\n",
    "   3.2.4 Departments grouping\n",
    "   3.2.5 Time of day grouping\n",
    "   3.2.6 Time of week grouping\n",
    "   4. Visualizations of Profiles\n",
    "   Regions/Departments Comparison\n",
    "   5. Export Final Data Set & Visualizations"
   ]
  },
  {
   "cell_type": "markdown",
   "id": "24a91b57",
   "metadata": {},
   "source": [
    "# 1. Importing libraries and data"
   ]
  },
  {
   "cell_type": "code",
   "execution_count": 2,
   "id": "e24c1b3f",
   "metadata": {},
   "outputs": [],
   "source": [
    "#Import libraries\n",
    "import pandas as pd\n",
    "import numpy as np\n",
    "import os\n",
    "import matplotlib.pyplot as plt\n",
    "import seaborn as sns\n",
    "import scipy"
   ]
  },
  {
   "cell_type": "code",
   "execution_count": 3,
   "id": "ac4095fe",
   "metadata": {},
   "outputs": [],
   "source": [
    "#Set the path\n",
    "path = r'C:\\Users\\midov\\Documents\\Studies\\Data Analysis\\Immersion into Data Analytics\\Achievement 4_Python Fundamentals for Data Analysts\\Instacart Basket Analysis'"
   ]
  },
  {
   "cell_type": "code",
   "execution_count": 4,
   "id": "4183607e",
   "metadata": {},
   "outputs": [],
   "source": [
    "#Import dataframe from Exercise 4.9\n",
    "df = pd.read_pickle(os.path.join(path,'Data','Prepared Data', 'df_merged_final.pkl'))"
   ]
  },
  {
   "cell_type": "markdown",
   "id": "30cb1b23",
   "metadata": {},
   "source": [
    "# 2. Data Privacy"
   ]
  },
  {
   "cell_type": "code",
   "execution_count": 5,
   "id": "021d497b",
   "metadata": {},
   "outputs": [
    {
     "data": {
      "text/plain": [
       "Index(['Unnamed: 0', 'order_id', 'user_id', 'order_number',\n",
       "       'orders_day_of_week', 'order_hour_of_day', 'days_since_last_order',\n",
       "       'new_customer', 'product_id', 'add_to_cart_order', 'reordered',\n",
       "       '_merge', 'product_name', 'aisle_id', 'department_id', 'prices',\n",
       "       'max_order', 'loyalty_flag', 'avg_price', 'median_order_duration',\n",
       "       'Frequency_flag', 'first_name', 'surname', 'gender', 'state', 'age',\n",
       "       'date_joined', 'no_of_dependants', 'marital_status', 'income'],\n",
       "      dtype='object')"
      ]
     },
     "execution_count": 5,
     "metadata": {},
     "output_type": "execute_result"
    }
   ],
   "source": [
    "#looking for PII columns\n",
    "df.columns"
   ]
  },
  {
   "cell_type": "code",
   "execution_count": 6,
   "id": "2451a0fb",
   "metadata": {},
   "outputs": [],
   "source": [
    "#Exclude the 'first_name' and 'last_name' columns as PII data\n",
    "df.drop(['first_name', 'surname'],inplace=True, axis=1)"
   ]
  },
  {
   "cell_type": "markdown",
   "id": "7ebb2b7d",
   "metadata": {},
   "source": [
    "# 3. Customer Profiling"
   ]
  },
  {
   "cell_type": "markdown",
   "id": "65c603ec",
   "metadata": {},
   "source": [
    "## 3.1.1 Exclusion of customers who don’t generate much revenue for the app"
   ]
  },
  {
   "cell_type": "code",
   "execution_count": 7,
   "id": "7fe5a79f",
   "metadata": {},
   "outputs": [],
   "source": [
    "#Create an exclusion flag for low-activity customers (customers with less than 5 orders) by creating variable for number of orders made by user and counting of user_id \n",
    "df['total_orders']=df.groupby(['user_id']).user_id.transform('count')"
   ]
  },
  {
   "cell_type": "code",
   "execution_count": 8,
   "id": "9b123227",
   "metadata": {},
   "outputs": [],
   "source": [
    "#Create an exclusion flag by counting the amount of times user_id appears in dataframe (customers with less than 5 orders have low activity)\n",
    "results_2=[]\n",
    "for total in df['total_orders']:\n",
    "    if total < 5:\n",
    "        results_2.append('Low Activity')\n",
    "    else:\n",
    "        results_2.append('Regular Activity')"
   ]
  },
  {
   "cell_type": "code",
   "execution_count": 9,
   "id": "77b4834c",
   "metadata": {},
   "outputs": [],
   "source": [
    "#Include new column in dataframe\n",
    "df['activity_flag']=results_2"
   ]
  },
  {
   "cell_type": "code",
   "execution_count": 10,
   "id": "6a2d2221",
   "metadata": {},
   "outputs": [
    {
     "data": {
      "text/plain": [
       "Regular Activity    8528\n",
       "Name: activity_flag, dtype: int64"
      ]
     },
     "execution_count": 10,
     "metadata": {},
     "output_type": "execute_result"
    }
   ],
   "source": [
    "df['activity_flag'].value_counts(dropna=False)"
   ]
  },
  {
   "cell_type": "markdown",
   "id": "f16a53f0",
   "metadata": {},
   "source": [
    "#There are no low activity customers in the data set. This result may be due to the purposive reduction of the final df in task 4.9. "
   ]
  },
  {
   "cell_type": "code",
   "execution_count": 11,
   "id": "53e1c6e9",
   "metadata": {
    "scrolled": true
   },
   "outputs": [
    {
     "data": {
      "text/html": [
       "<div>\n",
       "<style scoped>\n",
       "    .dataframe tbody tr th:only-of-type {\n",
       "        vertical-align: middle;\n",
       "    }\n",
       "\n",
       "    .dataframe tbody tr th {\n",
       "        vertical-align: top;\n",
       "    }\n",
       "\n",
       "    .dataframe thead th {\n",
       "        text-align: right;\n",
       "    }\n",
       "</style>\n",
       "<table border=\"1\" class=\"dataframe\">\n",
       "  <thead>\n",
       "    <tr style=\"text-align: right;\">\n",
       "      <th></th>\n",
       "      <th>Unnamed: 0</th>\n",
       "      <th>order_id</th>\n",
       "      <th>user_id</th>\n",
       "      <th>order_number</th>\n",
       "      <th>orders_day_of_week</th>\n",
       "      <th>order_hour_of_day</th>\n",
       "      <th>days_since_last_order</th>\n",
       "      <th>new_customer</th>\n",
       "      <th>product_id</th>\n",
       "      <th>add_to_cart_order</th>\n",
       "      <th>reordered</th>\n",
       "      <th>_merge</th>\n",
       "      <th>product_name</th>\n",
       "      <th>aisle_id</th>\n",
       "      <th>department_id</th>\n",
       "      <th>prices</th>\n",
       "      <th>max_order</th>\n",
       "      <th>loyalty_flag</th>\n",
       "      <th>avg_price</th>\n",
       "      <th>median_order_duration</th>\n",
       "      <th>Frequency_flag</th>\n",
       "      <th>gender</th>\n",
       "      <th>state</th>\n",
       "      <th>age</th>\n",
       "      <th>date_joined</th>\n",
       "      <th>no_of_dependants</th>\n",
       "      <th>marital_status</th>\n",
       "      <th>income</th>\n",
       "      <th>total_orders</th>\n",
       "      <th>activity_flag</th>\n",
       "    </tr>\n",
       "  </thead>\n",
       "  <tbody>\n",
       "    <tr>\n",
       "      <th>0</th>\n",
       "      <td>0</td>\n",
       "      <td>2539329</td>\n",
       "      <td>1</td>\n",
       "      <td>1</td>\n",
       "      <td>2</td>\n",
       "      <td>8</td>\n",
       "      <td>NaN</td>\n",
       "      <td>True</td>\n",
       "      <td>196</td>\n",
       "      <td>1</td>\n",
       "      <td>0</td>\n",
       "      <td>both</td>\n",
       "      <td>Soda</td>\n",
       "      <td>77</td>\n",
       "      <td>7</td>\n",
       "      <td>9.0</td>\n",
       "      <td>10</td>\n",
       "      <td>New customer</td>\n",
       "      <td>6.367797</td>\n",
       "      <td>20.5</td>\n",
       "      <td>Non-frequent customer</td>\n",
       "      <td>Female</td>\n",
       "      <td>Alabama</td>\n",
       "      <td>31</td>\n",
       "      <td>2/17/2019</td>\n",
       "      <td>3</td>\n",
       "      <td>married</td>\n",
       "      <td>40423</td>\n",
       "      <td>59</td>\n",
       "      <td>Regular Activity</td>\n",
       "    </tr>\n",
       "    <tr>\n",
       "      <th>1</th>\n",
       "      <td>1</td>\n",
       "      <td>2398795</td>\n",
       "      <td>1</td>\n",
       "      <td>2</td>\n",
       "      <td>3</td>\n",
       "      <td>7</td>\n",
       "      <td>15.0</td>\n",
       "      <td>False</td>\n",
       "      <td>196</td>\n",
       "      <td>1</td>\n",
       "      <td>1</td>\n",
       "      <td>both</td>\n",
       "      <td>Soda</td>\n",
       "      <td>77</td>\n",
       "      <td>7</td>\n",
       "      <td>9.0</td>\n",
       "      <td>10</td>\n",
       "      <td>New customer</td>\n",
       "      <td>6.367797</td>\n",
       "      <td>20.5</td>\n",
       "      <td>Non-frequent customer</td>\n",
       "      <td>Female</td>\n",
       "      <td>Alabama</td>\n",
       "      <td>31</td>\n",
       "      <td>2/17/2019</td>\n",
       "      <td>3</td>\n",
       "      <td>married</td>\n",
       "      <td>40423</td>\n",
       "      <td>59</td>\n",
       "      <td>Regular Activity</td>\n",
       "    </tr>\n",
       "    <tr>\n",
       "      <th>2</th>\n",
       "      <td>2</td>\n",
       "      <td>473747</td>\n",
       "      <td>1</td>\n",
       "      <td>3</td>\n",
       "      <td>3</td>\n",
       "      <td>12</td>\n",
       "      <td>21.0</td>\n",
       "      <td>False</td>\n",
       "      <td>196</td>\n",
       "      <td>1</td>\n",
       "      <td>1</td>\n",
       "      <td>both</td>\n",
       "      <td>Soda</td>\n",
       "      <td>77</td>\n",
       "      <td>7</td>\n",
       "      <td>9.0</td>\n",
       "      <td>10</td>\n",
       "      <td>New customer</td>\n",
       "      <td>6.367797</td>\n",
       "      <td>20.5</td>\n",
       "      <td>Non-frequent customer</td>\n",
       "      <td>Female</td>\n",
       "      <td>Alabama</td>\n",
       "      <td>31</td>\n",
       "      <td>2/17/2019</td>\n",
       "      <td>3</td>\n",
       "      <td>married</td>\n",
       "      <td>40423</td>\n",
       "      <td>59</td>\n",
       "      <td>Regular Activity</td>\n",
       "    </tr>\n",
       "    <tr>\n",
       "      <th>3</th>\n",
       "      <td>3</td>\n",
       "      <td>2254736</td>\n",
       "      <td>1</td>\n",
       "      <td>4</td>\n",
       "      <td>4</td>\n",
       "      <td>7</td>\n",
       "      <td>29.0</td>\n",
       "      <td>False</td>\n",
       "      <td>196</td>\n",
       "      <td>1</td>\n",
       "      <td>1</td>\n",
       "      <td>both</td>\n",
       "      <td>Soda</td>\n",
       "      <td>77</td>\n",
       "      <td>7</td>\n",
       "      <td>9.0</td>\n",
       "      <td>10</td>\n",
       "      <td>New customer</td>\n",
       "      <td>6.367797</td>\n",
       "      <td>20.5</td>\n",
       "      <td>Non-frequent customer</td>\n",
       "      <td>Female</td>\n",
       "      <td>Alabama</td>\n",
       "      <td>31</td>\n",
       "      <td>2/17/2019</td>\n",
       "      <td>3</td>\n",
       "      <td>married</td>\n",
       "      <td>40423</td>\n",
       "      <td>59</td>\n",
       "      <td>Regular Activity</td>\n",
       "    </tr>\n",
       "    <tr>\n",
       "      <th>4</th>\n",
       "      <td>4</td>\n",
       "      <td>431534</td>\n",
       "      <td>1</td>\n",
       "      <td>5</td>\n",
       "      <td>4</td>\n",
       "      <td>15</td>\n",
       "      <td>28.0</td>\n",
       "      <td>False</td>\n",
       "      <td>196</td>\n",
       "      <td>1</td>\n",
       "      <td>1</td>\n",
       "      <td>both</td>\n",
       "      <td>Soda</td>\n",
       "      <td>77</td>\n",
       "      <td>7</td>\n",
       "      <td>9.0</td>\n",
       "      <td>10</td>\n",
       "      <td>New customer</td>\n",
       "      <td>6.367797</td>\n",
       "      <td>20.5</td>\n",
       "      <td>Non-frequent customer</td>\n",
       "      <td>Female</td>\n",
       "      <td>Alabama</td>\n",
       "      <td>31</td>\n",
       "      <td>2/17/2019</td>\n",
       "      <td>3</td>\n",
       "      <td>married</td>\n",
       "      <td>40423</td>\n",
       "      <td>59</td>\n",
       "      <td>Regular Activity</td>\n",
       "    </tr>\n",
       "  </tbody>\n",
       "</table>\n",
       "</div>"
      ],
      "text/plain": [
       "   Unnamed: 0  order_id  user_id  order_number  orders_day_of_week  \\\n",
       "0           0   2539329        1             1                   2   \n",
       "1           1   2398795        1             2                   3   \n",
       "2           2    473747        1             3                   3   \n",
       "3           3   2254736        1             4                   4   \n",
       "4           4    431534        1             5                   4   \n",
       "\n",
       "   order_hour_of_day  days_since_last_order  new_customer  product_id  \\\n",
       "0                  8                    NaN          True         196   \n",
       "1                  7                   15.0         False         196   \n",
       "2                 12                   21.0         False         196   \n",
       "3                  7                   29.0         False         196   \n",
       "4                 15                   28.0         False         196   \n",
       "\n",
       "   add_to_cart_order  reordered _merge product_name  aisle_id  department_id  \\\n",
       "0                  1          0   both         Soda        77              7   \n",
       "1                  1          1   both         Soda        77              7   \n",
       "2                  1          1   both         Soda        77              7   \n",
       "3                  1          1   both         Soda        77              7   \n",
       "4                  1          1   both         Soda        77              7   \n",
       "\n",
       "   prices  max_order  loyalty_flag  avg_price  median_order_duration  \\\n",
       "0     9.0         10  New customer   6.367797                   20.5   \n",
       "1     9.0         10  New customer   6.367797                   20.5   \n",
       "2     9.0         10  New customer   6.367797                   20.5   \n",
       "3     9.0         10  New customer   6.367797                   20.5   \n",
       "4     9.0         10  New customer   6.367797                   20.5   \n",
       "\n",
       "          Frequency_flag  gender    state  age date_joined  no_of_dependants  \\\n",
       "0  Non-frequent customer  Female  Alabama   31   2/17/2019                 3   \n",
       "1  Non-frequent customer  Female  Alabama   31   2/17/2019                 3   \n",
       "2  Non-frequent customer  Female  Alabama   31   2/17/2019                 3   \n",
       "3  Non-frequent customer  Female  Alabama   31   2/17/2019                 3   \n",
       "4  Non-frequent customer  Female  Alabama   31   2/17/2019                 3   \n",
       "\n",
       "  marital_status  income  total_orders     activity_flag  \n",
       "0        married   40423            59  Regular Activity  \n",
       "1        married   40423            59  Regular Activity  \n",
       "2        married   40423            59  Regular Activity  \n",
       "3        married   40423            59  Regular Activity  \n",
       "4        married   40423            59  Regular Activity  "
      ]
     },
     "execution_count": 11,
     "metadata": {},
     "output_type": "execute_result"
    }
   ],
   "source": [
    "#Check the df\n",
    "pd.set_option('display.max_columns', None)\n",
    "df.head()"
   ]
  },
  {
   "cell_type": "markdown",
   "id": "ad0da236",
   "metadata": {},
   "source": [
    "## 3.1.2 Customer behavior in different geographic areas. Regional segmentation of the data."
   ]
  },
  {
   "cell_type": "code",
   "execution_count": 12,
   "id": "d0abd455",
   "metadata": {},
   "outputs": [],
   "source": [
    "#Create region Northeast\n",
    "Northeast=['Maine','New Hampshire','Vermont','Massachusetts','Rhode Island','Connecticut','New York','Pennsylvania','New Jersey']"
   ]
  },
  {
   "cell_type": "code",
   "execution_count": 13,
   "id": "5e3aab41",
   "metadata": {},
   "outputs": [],
   "source": [
    "#Create region Midwest\n",
    "Midwest=['Wisconsin','Michigan','Illinois','Indiana','Ohio','North Dakota','South Dakota','Nebraska','Kansas',\n",
    "         'Minnesota','Iowa','Missouri']"
   ]
  },
  {
   "cell_type": "code",
   "execution_count": 14,
   "id": "eb428fe5",
   "metadata": {},
   "outputs": [],
   "source": [
    "#Create region South\n",
    "South=['Delaware','Maryland','District of Columbia','Virginia','West Virginia','North Carolina','South Carolina',\n",
    "       'Georgia','Florida','Kentucky','Tennessee','Mississippi','Alabama','Oklahoma','Texas','Arkansas','Louisiana']"
   ]
  },
  {
   "cell_type": "code",
   "execution_count": 15,
   "id": "abe4caaa",
   "metadata": {},
   "outputs": [],
   "source": [
    "#Create region West\n",
    "West=['Idaho','Montana','Wyoming','Nevada','Utah','Colorado','Arizona','New Mexico','Alaska','Washington','Oregon',\n",
    "      'California','Hawaii']"
   ]
  },
  {
   "cell_type": "code",
   "execution_count": 16,
   "id": "5560abf8",
   "metadata": {},
   "outputs": [],
   "source": [
    "#Loop for column Region\n",
    "result=[]\n",
    "for state in df['state']:\n",
    "    if state in Northeast:\n",
    "        result.append('Northeast')\n",
    "    elif state in Midwest:\n",
    "        result.append('Midwest')\n",
    "    elif state in South:\n",
    "        result.append('South')\n",
    "    else:\n",
    "        result.append('West')"
   ]
  },
  {
   "cell_type": "code",
   "execution_count": 17,
   "id": "b0df89e9",
   "metadata": {},
   "outputs": [],
   "source": [
    "#Include new column Region into df\n",
    "df['region']=result"
   ]
  },
  {
   "cell_type": "code",
   "execution_count": 18,
   "id": "d90e5fcb",
   "metadata": {
    "scrolled": true
   },
   "outputs": [
    {
     "data": {
      "text/plain": [
       "West         2572\n",
       "South        2305\n",
       "Midwest      2067\n",
       "Northeast    1584\n",
       "Name: region, dtype: int64"
      ]
     },
     "execution_count": 18,
     "metadata": {},
     "output_type": "execute_result"
    }
   ],
   "source": [
    "#Check the df\n",
    "df['region'].value_counts()"
   ]
  },
  {
   "cell_type": "markdown",
   "id": "918b2444",
   "metadata": {},
   "source": [
    "## 3.1.3 Difference in spending habits between the different U.S. regions"
   ]
  },
  {
   "cell_type": "code",
   "execution_count": 19,
   "id": "7ddecfd5",
   "metadata": {},
   "outputs": [
    {
     "data": {
      "text/html": [
       "<div>\n",
       "<style scoped>\n",
       "    .dataframe tbody tr th:only-of-type {\n",
       "        vertical-align: middle;\n",
       "    }\n",
       "\n",
       "    .dataframe tbody tr th {\n",
       "        vertical-align: top;\n",
       "    }\n",
       "\n",
       "    .dataframe thead tr th {\n",
       "        text-align: left;\n",
       "    }\n",
       "\n",
       "    .dataframe thead tr:last-of-type th {\n",
       "        text-align: right;\n",
       "    }\n",
       "</style>\n",
       "<table border=\"1\" class=\"dataframe\">\n",
       "  <thead>\n",
       "    <tr>\n",
       "      <th></th>\n",
       "      <th colspan=\"3\" halign=\"left\">prices</th>\n",
       "    </tr>\n",
       "    <tr>\n",
       "      <th></th>\n",
       "      <th>mean</th>\n",
       "      <th>min</th>\n",
       "      <th>max</th>\n",
       "    </tr>\n",
       "    <tr>\n",
       "      <th>region</th>\n",
       "      <th></th>\n",
       "      <th></th>\n",
       "      <th></th>\n",
       "    </tr>\n",
       "  </thead>\n",
       "  <tbody>\n",
       "    <tr>\n",
       "      <th>Midwest</th>\n",
       "      <td>22.037155</td>\n",
       "      <td>1.0</td>\n",
       "      <td>14900.0</td>\n",
       "    </tr>\n",
       "    <tr>\n",
       "      <th>Northeast</th>\n",
       "      <td>7.516162</td>\n",
       "      <td>1.0</td>\n",
       "      <td>23.2</td>\n",
       "    </tr>\n",
       "    <tr>\n",
       "      <th>South</th>\n",
       "      <td>7.792061</td>\n",
       "      <td>1.0</td>\n",
       "      <td>24.2</td>\n",
       "    </tr>\n",
       "    <tr>\n",
       "      <th>West</th>\n",
       "      <td>8.017924</td>\n",
       "      <td>1.0</td>\n",
       "      <td>24.0</td>\n",
       "    </tr>\n",
       "  </tbody>\n",
       "</table>\n",
       "</div>"
      ],
      "text/plain": [
       "              prices              \n",
       "                mean  min      max\n",
       "region                            \n",
       "Midwest    22.037155  1.0  14900.0\n",
       "Northeast   7.516162  1.0     23.2\n",
       "South       7.792061  1.0     24.2\n",
       "West        8.017924  1.0     24.0"
      ]
     },
     "execution_count": 19,
     "metadata": {},
     "output_type": "execute_result"
    }
   ],
   "source": [
    "#Aggregate for the regional expenditure\n",
    "df.groupby('region').agg({'prices': ['mean', 'min', 'max']})"
   ]
  },
  {
   "cell_type": "markdown",
   "id": "5e6e0e8c",
   "metadata": {},
   "source": [
    "Midwest spends more than other regions"
   ]
  },
  {
   "cell_type": "code",
   "execution_count": 20,
   "id": "53264aac",
   "metadata": {},
   "outputs": [
    {
     "data": {
      "text/html": [
       "<div>\n",
       "<style scoped>\n",
       "    .dataframe tbody tr th:only-of-type {\n",
       "        vertical-align: middle;\n",
       "    }\n",
       "\n",
       "    .dataframe tbody tr th {\n",
       "        vertical-align: top;\n",
       "    }\n",
       "\n",
       "    .dataframe thead tr th {\n",
       "        text-align: left;\n",
       "    }\n",
       "\n",
       "    .dataframe thead tr:last-of-type th {\n",
       "        text-align: right;\n",
       "    }\n",
       "</style>\n",
       "<table border=\"1\" class=\"dataframe\">\n",
       "  <thead>\n",
       "    <tr>\n",
       "      <th></th>\n",
       "      <th colspan=\"3\" halign=\"left\">total_orders</th>\n",
       "    </tr>\n",
       "    <tr>\n",
       "      <th></th>\n",
       "      <th>mean</th>\n",
       "      <th>min</th>\n",
       "      <th>max</th>\n",
       "    </tr>\n",
       "    <tr>\n",
       "      <th>region</th>\n",
       "      <th></th>\n",
       "      <th></th>\n",
       "      <th></th>\n",
       "    </tr>\n",
       "  </thead>\n",
       "  <tbody>\n",
       "    <tr>\n",
       "      <th>Midwest</th>\n",
       "      <td>248.446541</td>\n",
       "      <td>11</td>\n",
       "      <td>453</td>\n",
       "    </tr>\n",
       "    <tr>\n",
       "      <th>Northeast</th>\n",
       "      <td>440.239899</td>\n",
       "      <td>21</td>\n",
       "      <td>766</td>\n",
       "    </tr>\n",
       "    <tr>\n",
       "      <th>South</th>\n",
       "      <td>146.285033</td>\n",
       "      <td>18</td>\n",
       "      <td>299</td>\n",
       "    </tr>\n",
       "    <tr>\n",
       "      <th>West</th>\n",
       "      <td>316.262053</td>\n",
       "      <td>14</td>\n",
       "      <td>617</td>\n",
       "    </tr>\n",
       "  </tbody>\n",
       "</table>\n",
       "</div>"
      ],
      "text/plain": [
       "          total_orders         \n",
       "                  mean min  max\n",
       "region                         \n",
       "Midwest     248.446541  11  453\n",
       "Northeast   440.239899  21  766\n",
       "South       146.285033  18  299\n",
       "West        316.262053  14  617"
      ]
     },
     "execution_count": 20,
     "metadata": {},
     "output_type": "execute_result"
    }
   ],
   "source": [
    "#Aggregate for regional total_orders\n",
    "df.groupby('region').agg({'total_orders': ['mean', 'min', 'max']})"
   ]
  },
  {
   "cell_type": "markdown",
   "id": "b5f8dec2",
   "metadata": {},
   "source": [
    "Northeast customers do more orders than other regions"
   ]
  },
  {
   "cell_type": "markdown",
   "id": "833be984",
   "metadata": {},
   "source": [
    "# 3.2 Grouping"
   ]
  },
  {
   "cell_type": "markdown",
   "id": "29db7cdf",
   "metadata": {},
   "source": [
    "## 3.2.1 Age grouping"
   ]
  },
  {
   "cell_type": "markdown",
   "id": "488aed36",
   "metadata": {},
   "source": [
    "Age range 1 = Young Adult >= 18 & <35\n",
    "\n",
    "Age range 2 = Adult >=35 & <65\n",
    "\n",
    "Age range 3 = Senior >= 65"
   ]
  },
  {
   "cell_type": "code",
   "execution_count": 21,
   "id": "e52b1eac",
   "metadata": {},
   "outputs": [
    {
     "data": {
      "text/plain": [
       "2    4273\n",
       "3    3067\n",
       "1    1188\n",
       "Name: age_range, dtype: int64"
      ]
     },
     "execution_count": 21,
     "metadata": {},
     "output_type": "execute_result"
    }
   ],
   "source": [
    "#Create age group flag\n",
    "#Age range 1 = Young Adult >= 18 & <35\n",
    "#Age range 2 = Adult >=35 & <65\n",
    "#Age range 3 = Senior >= 65\n",
    "\n",
    "df.loc[(df['age'] >= 18) & (df['age'] <= 35), 'age_range'] = '1'\n",
    "df.loc[(df['age'] > 35) & (df['age'] < 65), 'age_range'] = '2'\n",
    "df.loc[(df['age'] >= 65), 'age_range'] = '3'\n",
    "df['age_range'].value_counts()"
   ]
  },
  {
   "cell_type": "markdown",
   "id": "c73363b8",
   "metadata": {},
   "source": [
    "Adults within age group 35-65 is the most numerous group of customers"
   ]
  },
  {
   "cell_type": "markdown",
   "id": "ae15d416",
   "metadata": {},
   "source": [
    "## 3.2.2 Income Grouping"
   ]
  },
  {
   "cell_type": "code",
   "execution_count": 22,
   "id": "98da551d",
   "metadata": {},
   "outputs": [
    {
     "data": {
      "text/plain": [
       "Middle Income    4509\n",
       "High Income      3333\n",
       "Low Income        686\n",
       "Name: Income_flag, dtype: int64"
      ]
     },
     "execution_count": 22,
     "metadata": {},
     "output_type": "execute_result"
    }
   ],
   "source": [
    "#Less than 50,000 = Low Income\n",
    "#Between 50,000 - 120,000 = Middle Income\n",
    "#Above 120,000 = High Income\n",
    "\n",
    "#Create income flags\n",
    "df.loc[df['income']<50000, 'Income_flag'] = 'Low Income'\n",
    "df.loc[(df['income']>=50000) & (df['income']<=120000), 'Income_flag'] = 'Middle Income' \n",
    "df.loc[df['income']>120000, 'Income_flag'] = 'High Income'\n",
    "df['Income_flag'].value_counts(dropna = False)"
   ]
  },
  {
   "cell_type": "markdown",
   "id": "de5875e3",
   "metadata": {},
   "source": [
    "The majority of customers fall within the Middle Income bracket making between 50,000 and 120,000"
   ]
  },
  {
   "cell_type": "markdown",
   "id": "a6817f4b",
   "metadata": {},
   "source": [
    "## 3.2.3 Dependent Grouping"
   ]
  },
  {
   "cell_type": "code",
   "execution_count": 23,
   "id": "3140feff",
   "metadata": {},
   "outputs": [],
   "source": [
    "#Customers with 0 dependents = no dependents\n",
    "#Customers with 1 or more dependents = has dependent/s\n",
    "\n",
    "#Create flag for customers with no dependents\n",
    "df.loc[df['no_of_dependants']== 0, 'Dependent_flag'] = 'No Dependents'\n",
    "# Create flag for 1 or more dependents\n",
    "df.loc[df['no_of_dependants'] > 0, 'Dependent_flag'] = 'Has Dependent/s'"
   ]
  },
  {
   "cell_type": "code",
   "execution_count": 24,
   "id": "7249e584",
   "metadata": {},
   "outputs": [
    {
     "data": {
      "text/plain": [
       "Has Dependent/s    6365\n",
       "No Dependents      2163\n",
       "Name: Dependent_flag, dtype: int64"
      ]
     },
     "execution_count": 24,
     "metadata": {},
     "output_type": "execute_result"
    }
   ],
   "source": [
    "#Check values\n",
    "df['Dependent_flag'].value_counts()"
   ]
  },
  {
   "cell_type": "code",
   "execution_count": 25,
   "id": "60b4a995",
   "metadata": {},
   "outputs": [
    {
     "data": {
      "text/html": [
       "<div>\n",
       "<style scoped>\n",
       "    .dataframe tbody tr th:only-of-type {\n",
       "        vertical-align: middle;\n",
       "    }\n",
       "\n",
       "    .dataframe tbody tr th {\n",
       "        vertical-align: top;\n",
       "    }\n",
       "\n",
       "    .dataframe thead tr th {\n",
       "        text-align: left;\n",
       "    }\n",
       "\n",
       "    .dataframe thead tr:last-of-type th {\n",
       "        text-align: right;\n",
       "    }\n",
       "</style>\n",
       "<table border=\"1\" class=\"dataframe\">\n",
       "  <thead>\n",
       "    <tr>\n",
       "      <th></th>\n",
       "      <th colspan=\"3\" halign=\"left\">prices</th>\n",
       "    </tr>\n",
       "    <tr>\n",
       "      <th></th>\n",
       "      <th>mean</th>\n",
       "      <th>min</th>\n",
       "      <th>max</th>\n",
       "    </tr>\n",
       "    <tr>\n",
       "      <th>Dependent_flag</th>\n",
       "      <th></th>\n",
       "      <th></th>\n",
       "      <th></th>\n",
       "    </tr>\n",
       "  </thead>\n",
       "  <tbody>\n",
       "    <tr>\n",
       "      <th>Has Dependent/s</th>\n",
       "      <td>12.479576</td>\n",
       "      <td>1.0</td>\n",
       "      <td>14900.0</td>\n",
       "    </tr>\n",
       "    <tr>\n",
       "      <th>No Dependents</th>\n",
       "      <td>7.677624</td>\n",
       "      <td>1.1</td>\n",
       "      <td>24.7</td>\n",
       "    </tr>\n",
       "  </tbody>\n",
       "</table>\n",
       "</div>"
      ],
      "text/plain": [
       "                    prices              \n",
       "                      mean  min      max\n",
       "Dependent_flag                          \n",
       "Has Dependent/s  12.479576  1.0  14900.0\n",
       "No Dependents     7.677624  1.1     24.7"
      ]
     },
     "execution_count": 25,
     "metadata": {},
     "output_type": "execute_result"
    }
   ],
   "source": [
    "#Aggregate dependent expenditure\n",
    "df.groupby('Dependent_flag').agg({'prices': ['mean', 'min', 'max']})"
   ]
  },
  {
   "cell_type": "markdown",
   "id": "7510c48b",
   "metadata": {},
   "source": [
    "Customers with dependents spend more on average"
   ]
  },
  {
   "cell_type": "markdown",
   "id": "248ab06a",
   "metadata": {},
   "source": [
    "## 3.2.4 Departments grouping"
   ]
  },
  {
   "cell_type": "code",
   "execution_count": 26,
   "id": "8e94de84",
   "metadata": {},
   "outputs": [],
   "source": [
    "#Import departments df\n",
    "departments=pd.read_csv(os.path.join(path, 'Data', 'Prepared Data', 'departments_wrangled.csv'),index_col=False)"
   ]
  },
  {
   "cell_type": "code",
   "execution_count": 27,
   "id": "0bac98f9",
   "metadata": {},
   "outputs": [
    {
     "data": {
      "text/plain": [
       "{1: 'frozen',\n",
       " 2: 'other',\n",
       " 3: 'bakery',\n",
       " 4: 'produce',\n",
       " 5: 'alcohol',\n",
       " 6: 'international',\n",
       " 7: 'beverages',\n",
       " 8: 'pets',\n",
       " 9: 'dry goods pasta',\n",
       " 10: 'bulk',\n",
       " 11: 'personal care',\n",
       " 12: 'meat seafood',\n",
       " 13: 'pantry',\n",
       " 14: 'breakfast',\n",
       " 15: 'canned goods',\n",
       " 16: 'dairy eggs',\n",
       " 17: 'household',\n",
       " 18: 'babies',\n",
       " 19: 'snacks',\n",
       " 20: 'deli',\n",
       " 21: 'missing'}"
      ]
     },
     "execution_count": 27,
     "metadata": {},
     "output_type": "execute_result"
    }
   ],
   "source": [
    "#Create data dictionary for department_id\n",
    "zipped=zip(departments['Unnamed: 0'], departments['department'])\n",
    "data_dict=dict(zipped)\n",
    "data_dict"
   ]
  },
  {
   "cell_type": "code",
   "execution_count": 28,
   "id": "5412aca7",
   "metadata": {},
   "outputs": [
    {
     "data": {
      "text/html": [
       "<div>\n",
       "<style scoped>\n",
       "    .dataframe tbody tr th:only-of-type {\n",
       "        vertical-align: middle;\n",
       "    }\n",
       "\n",
       "    .dataframe tbody tr th {\n",
       "        vertical-align: top;\n",
       "    }\n",
       "\n",
       "    .dataframe thead th {\n",
       "        text-align: right;\n",
       "    }\n",
       "</style>\n",
       "<table border=\"1\" class=\"dataframe\">\n",
       "  <thead>\n",
       "    <tr style=\"text-align: right;\">\n",
       "      <th></th>\n",
       "      <th>Unnamed: 0</th>\n",
       "      <th>order_id</th>\n",
       "      <th>user_id</th>\n",
       "      <th>order_number</th>\n",
       "      <th>orders_day_of_week</th>\n",
       "      <th>order_hour_of_day</th>\n",
       "      <th>days_since_last_order</th>\n",
       "      <th>new_customer</th>\n",
       "      <th>product_id</th>\n",
       "      <th>add_to_cart_order</th>\n",
       "      <th>reordered</th>\n",
       "      <th>_merge</th>\n",
       "      <th>product_name</th>\n",
       "      <th>aisle_id</th>\n",
       "      <th>department_id</th>\n",
       "      <th>prices</th>\n",
       "      <th>max_order</th>\n",
       "      <th>loyalty_flag</th>\n",
       "      <th>avg_price</th>\n",
       "      <th>median_order_duration</th>\n",
       "      <th>Frequency_flag</th>\n",
       "      <th>gender</th>\n",
       "      <th>state</th>\n",
       "      <th>age</th>\n",
       "      <th>date_joined</th>\n",
       "      <th>no_of_dependants</th>\n",
       "      <th>marital_status</th>\n",
       "      <th>income</th>\n",
       "      <th>total_orders</th>\n",
       "      <th>activity_flag</th>\n",
       "      <th>region</th>\n",
       "      <th>age_range</th>\n",
       "      <th>Income_flag</th>\n",
       "      <th>Dependent_flag</th>\n",
       "      <th>department</th>\n",
       "    </tr>\n",
       "  </thead>\n",
       "  <tbody>\n",
       "    <tr>\n",
       "      <th>0</th>\n",
       "      <td>0</td>\n",
       "      <td>2539329</td>\n",
       "      <td>1</td>\n",
       "      <td>1</td>\n",
       "      <td>2</td>\n",
       "      <td>8</td>\n",
       "      <td>NaN</td>\n",
       "      <td>True</td>\n",
       "      <td>196</td>\n",
       "      <td>1</td>\n",
       "      <td>0</td>\n",
       "      <td>both</td>\n",
       "      <td>Soda</td>\n",
       "      <td>77</td>\n",
       "      <td>7</td>\n",
       "      <td>9.0</td>\n",
       "      <td>10</td>\n",
       "      <td>New customer</td>\n",
       "      <td>6.367797</td>\n",
       "      <td>20.5</td>\n",
       "      <td>Non-frequent customer</td>\n",
       "      <td>Female</td>\n",
       "      <td>Alabama</td>\n",
       "      <td>31</td>\n",
       "      <td>2/17/2019</td>\n",
       "      <td>3</td>\n",
       "      <td>married</td>\n",
       "      <td>40423</td>\n",
       "      <td>59</td>\n",
       "      <td>Regular Activity</td>\n",
       "      <td>South</td>\n",
       "      <td>1</td>\n",
       "      <td>Low Income</td>\n",
       "      <td>Has Dependent/s</td>\n",
       "      <td>beverages</td>\n",
       "    </tr>\n",
       "    <tr>\n",
       "      <th>1</th>\n",
       "      <td>1</td>\n",
       "      <td>2398795</td>\n",
       "      <td>1</td>\n",
       "      <td>2</td>\n",
       "      <td>3</td>\n",
       "      <td>7</td>\n",
       "      <td>15.0</td>\n",
       "      <td>False</td>\n",
       "      <td>196</td>\n",
       "      <td>1</td>\n",
       "      <td>1</td>\n",
       "      <td>both</td>\n",
       "      <td>Soda</td>\n",
       "      <td>77</td>\n",
       "      <td>7</td>\n",
       "      <td>9.0</td>\n",
       "      <td>10</td>\n",
       "      <td>New customer</td>\n",
       "      <td>6.367797</td>\n",
       "      <td>20.5</td>\n",
       "      <td>Non-frequent customer</td>\n",
       "      <td>Female</td>\n",
       "      <td>Alabama</td>\n",
       "      <td>31</td>\n",
       "      <td>2/17/2019</td>\n",
       "      <td>3</td>\n",
       "      <td>married</td>\n",
       "      <td>40423</td>\n",
       "      <td>59</td>\n",
       "      <td>Regular Activity</td>\n",
       "      <td>South</td>\n",
       "      <td>1</td>\n",
       "      <td>Low Income</td>\n",
       "      <td>Has Dependent/s</td>\n",
       "      <td>beverages</td>\n",
       "    </tr>\n",
       "    <tr>\n",
       "      <th>2</th>\n",
       "      <td>2</td>\n",
       "      <td>473747</td>\n",
       "      <td>1</td>\n",
       "      <td>3</td>\n",
       "      <td>3</td>\n",
       "      <td>12</td>\n",
       "      <td>21.0</td>\n",
       "      <td>False</td>\n",
       "      <td>196</td>\n",
       "      <td>1</td>\n",
       "      <td>1</td>\n",
       "      <td>both</td>\n",
       "      <td>Soda</td>\n",
       "      <td>77</td>\n",
       "      <td>7</td>\n",
       "      <td>9.0</td>\n",
       "      <td>10</td>\n",
       "      <td>New customer</td>\n",
       "      <td>6.367797</td>\n",
       "      <td>20.5</td>\n",
       "      <td>Non-frequent customer</td>\n",
       "      <td>Female</td>\n",
       "      <td>Alabama</td>\n",
       "      <td>31</td>\n",
       "      <td>2/17/2019</td>\n",
       "      <td>3</td>\n",
       "      <td>married</td>\n",
       "      <td>40423</td>\n",
       "      <td>59</td>\n",
       "      <td>Regular Activity</td>\n",
       "      <td>South</td>\n",
       "      <td>1</td>\n",
       "      <td>Low Income</td>\n",
       "      <td>Has Dependent/s</td>\n",
       "      <td>beverages</td>\n",
       "    </tr>\n",
       "    <tr>\n",
       "      <th>3</th>\n",
       "      <td>3</td>\n",
       "      <td>2254736</td>\n",
       "      <td>1</td>\n",
       "      <td>4</td>\n",
       "      <td>4</td>\n",
       "      <td>7</td>\n",
       "      <td>29.0</td>\n",
       "      <td>False</td>\n",
       "      <td>196</td>\n",
       "      <td>1</td>\n",
       "      <td>1</td>\n",
       "      <td>both</td>\n",
       "      <td>Soda</td>\n",
       "      <td>77</td>\n",
       "      <td>7</td>\n",
       "      <td>9.0</td>\n",
       "      <td>10</td>\n",
       "      <td>New customer</td>\n",
       "      <td>6.367797</td>\n",
       "      <td>20.5</td>\n",
       "      <td>Non-frequent customer</td>\n",
       "      <td>Female</td>\n",
       "      <td>Alabama</td>\n",
       "      <td>31</td>\n",
       "      <td>2/17/2019</td>\n",
       "      <td>3</td>\n",
       "      <td>married</td>\n",
       "      <td>40423</td>\n",
       "      <td>59</td>\n",
       "      <td>Regular Activity</td>\n",
       "      <td>South</td>\n",
       "      <td>1</td>\n",
       "      <td>Low Income</td>\n",
       "      <td>Has Dependent/s</td>\n",
       "      <td>beverages</td>\n",
       "    </tr>\n",
       "    <tr>\n",
       "      <th>4</th>\n",
       "      <td>4</td>\n",
       "      <td>431534</td>\n",
       "      <td>1</td>\n",
       "      <td>5</td>\n",
       "      <td>4</td>\n",
       "      <td>15</td>\n",
       "      <td>28.0</td>\n",
       "      <td>False</td>\n",
       "      <td>196</td>\n",
       "      <td>1</td>\n",
       "      <td>1</td>\n",
       "      <td>both</td>\n",
       "      <td>Soda</td>\n",
       "      <td>77</td>\n",
       "      <td>7</td>\n",
       "      <td>9.0</td>\n",
       "      <td>10</td>\n",
       "      <td>New customer</td>\n",
       "      <td>6.367797</td>\n",
       "      <td>20.5</td>\n",
       "      <td>Non-frequent customer</td>\n",
       "      <td>Female</td>\n",
       "      <td>Alabama</td>\n",
       "      <td>31</td>\n",
       "      <td>2/17/2019</td>\n",
       "      <td>3</td>\n",
       "      <td>married</td>\n",
       "      <td>40423</td>\n",
       "      <td>59</td>\n",
       "      <td>Regular Activity</td>\n",
       "      <td>South</td>\n",
       "      <td>1</td>\n",
       "      <td>Low Income</td>\n",
       "      <td>Has Dependent/s</td>\n",
       "      <td>beverages</td>\n",
       "    </tr>\n",
       "  </tbody>\n",
       "</table>\n",
       "</div>"
      ],
      "text/plain": [
       "   Unnamed: 0  order_id  user_id  order_number  orders_day_of_week  \\\n",
       "0           0   2539329        1             1                   2   \n",
       "1           1   2398795        1             2                   3   \n",
       "2           2    473747        1             3                   3   \n",
       "3           3   2254736        1             4                   4   \n",
       "4           4    431534        1             5                   4   \n",
       "\n",
       "   order_hour_of_day  days_since_last_order  new_customer  product_id  \\\n",
       "0                  8                    NaN          True         196   \n",
       "1                  7                   15.0         False         196   \n",
       "2                 12                   21.0         False         196   \n",
       "3                  7                   29.0         False         196   \n",
       "4                 15                   28.0         False         196   \n",
       "\n",
       "   add_to_cart_order  reordered _merge product_name  aisle_id  department_id  \\\n",
       "0                  1          0   both         Soda        77              7   \n",
       "1                  1          1   both         Soda        77              7   \n",
       "2                  1          1   both         Soda        77              7   \n",
       "3                  1          1   both         Soda        77              7   \n",
       "4                  1          1   both         Soda        77              7   \n",
       "\n",
       "   prices  max_order  loyalty_flag  avg_price  median_order_duration  \\\n",
       "0     9.0         10  New customer   6.367797                   20.5   \n",
       "1     9.0         10  New customer   6.367797                   20.5   \n",
       "2     9.0         10  New customer   6.367797                   20.5   \n",
       "3     9.0         10  New customer   6.367797                   20.5   \n",
       "4     9.0         10  New customer   6.367797                   20.5   \n",
       "\n",
       "          Frequency_flag  gender    state  age date_joined  no_of_dependants  \\\n",
       "0  Non-frequent customer  Female  Alabama   31   2/17/2019                 3   \n",
       "1  Non-frequent customer  Female  Alabama   31   2/17/2019                 3   \n",
       "2  Non-frequent customer  Female  Alabama   31   2/17/2019                 3   \n",
       "3  Non-frequent customer  Female  Alabama   31   2/17/2019                 3   \n",
       "4  Non-frequent customer  Female  Alabama   31   2/17/2019                 3   \n",
       "\n",
       "  marital_status  income  total_orders     activity_flag region age_range  \\\n",
       "0        married   40423            59  Regular Activity  South         1   \n",
       "1        married   40423            59  Regular Activity  South         1   \n",
       "2        married   40423            59  Regular Activity  South         1   \n",
       "3        married   40423            59  Regular Activity  South         1   \n",
       "4        married   40423            59  Regular Activity  South         1   \n",
       "\n",
       "  Income_flag   Dependent_flag department  \n",
       "0  Low Income  Has Dependent/s  beverages  \n",
       "1  Low Income  Has Dependent/s  beverages  \n",
       "2  Low Income  Has Dependent/s  beverages  \n",
       "3  Low Income  Has Dependent/s  beverages  \n",
       "4  Low Income  Has Dependent/s  beverages  "
      ]
     },
     "execution_count": 28,
     "metadata": {},
     "output_type": "execute_result"
    }
   ],
   "source": [
    "# Map departments' names to department_id in dataframe\n",
    "df['department'] = df['department_id'].map(data_dict)\n",
    "df.head()"
   ]
  },
  {
   "cell_type": "code",
   "execution_count": 29,
   "id": "ec76c9d5",
   "metadata": {},
   "outputs": [],
   "source": [
    "#Create subset for customers who have purchased baby products from Babies Department\n",
    "parents=df.loc[df['department']=='babies']"
   ]
  },
  {
   "cell_type": "code",
   "execution_count": 30,
   "id": "9de79913",
   "metadata": {},
   "outputs": [
    {
     "data": {
      "text/html": [
       "<div>\n",
       "<style scoped>\n",
       "    .dataframe tbody tr th:only-of-type {\n",
       "        vertical-align: middle;\n",
       "    }\n",
       "\n",
       "    .dataframe tbody tr th {\n",
       "        vertical-align: top;\n",
       "    }\n",
       "\n",
       "    .dataframe thead th {\n",
       "        text-align: right;\n",
       "    }\n",
       "</style>\n",
       "<table border=\"1\" class=\"dataframe\">\n",
       "  <thead>\n",
       "    <tr style=\"text-align: right;\">\n",
       "      <th></th>\n",
       "      <th>Unnamed: 0</th>\n",
       "      <th>order_id</th>\n",
       "      <th>user_id</th>\n",
       "      <th>order_number</th>\n",
       "      <th>orders_day_of_week</th>\n",
       "      <th>order_hour_of_day</th>\n",
       "      <th>days_since_last_order</th>\n",
       "      <th>new_customer</th>\n",
       "      <th>product_id</th>\n",
       "      <th>add_to_cart_order</th>\n",
       "      <th>reordered</th>\n",
       "      <th>_merge</th>\n",
       "      <th>product_name</th>\n",
       "      <th>aisle_id</th>\n",
       "      <th>department_id</th>\n",
       "      <th>prices</th>\n",
       "      <th>max_order</th>\n",
       "      <th>loyalty_flag</th>\n",
       "      <th>avg_price</th>\n",
       "      <th>median_order_duration</th>\n",
       "      <th>Frequency_flag</th>\n",
       "      <th>gender</th>\n",
       "      <th>state</th>\n",
       "      <th>age</th>\n",
       "      <th>date_joined</th>\n",
       "      <th>no_of_dependants</th>\n",
       "      <th>marital_status</th>\n",
       "      <th>income</th>\n",
       "      <th>total_orders</th>\n",
       "      <th>activity_flag</th>\n",
       "      <th>region</th>\n",
       "      <th>age_range</th>\n",
       "      <th>Income_flag</th>\n",
       "      <th>Dependent_flag</th>\n",
       "      <th>department</th>\n",
       "    </tr>\n",
       "  </thead>\n",
       "  <tbody>\n",
       "    <tr>\n",
       "      <th>3274</th>\n",
       "      <td>700</td>\n",
       "      <td>3067010</td>\n",
       "      <td>50</td>\n",
       "      <td>22</td>\n",
       "      <td>1</td>\n",
       "      <td>12</td>\n",
       "      <td>7.0</td>\n",
       "      <td>False</td>\n",
       "      <td>5922</td>\n",
       "      <td>1</td>\n",
       "      <td>0</td>\n",
       "      <td>both</td>\n",
       "      <td>Honest Face, Hand, &amp; Baby Wipes</td>\n",
       "      <td>56</td>\n",
       "      <td>18</td>\n",
       "      <td>6.2</td>\n",
       "      <td>67</td>\n",
       "      <td>Loyal customer</td>\n",
       "      <td>7.899117</td>\n",
       "      <td>5.0</td>\n",
       "      <td>Frequent customer</td>\n",
       "      <td>Female</td>\n",
       "      <td>Wisconsin</td>\n",
       "      <td>67</td>\n",
       "      <td>10/31/2018</td>\n",
       "      <td>2</td>\n",
       "      <td>married</td>\n",
       "      <td>132424</td>\n",
       "      <td>453</td>\n",
       "      <td>Regular Activity</td>\n",
       "      <td>Midwest</td>\n",
       "      <td>3</td>\n",
       "      <td>High Income</td>\n",
       "      <td>Has Dependent/s</td>\n",
       "      <td>babies</td>\n",
       "    </tr>\n",
       "    <tr>\n",
       "      <th>3275</th>\n",
       "      <td>715</td>\n",
       "      <td>2425696</td>\n",
       "      <td>50</td>\n",
       "      <td>37</td>\n",
       "      <td>4</td>\n",
       "      <td>15</td>\n",
       "      <td>3.0</td>\n",
       "      <td>False</td>\n",
       "      <td>5922</td>\n",
       "      <td>1</td>\n",
       "      <td>1</td>\n",
       "      <td>both</td>\n",
       "      <td>Honest Face, Hand, &amp; Baby Wipes</td>\n",
       "      <td>56</td>\n",
       "      <td>18</td>\n",
       "      <td>6.2</td>\n",
       "      <td>67</td>\n",
       "      <td>Loyal customer</td>\n",
       "      <td>7.899117</td>\n",
       "      <td>5.0</td>\n",
       "      <td>Frequent customer</td>\n",
       "      <td>Female</td>\n",
       "      <td>Wisconsin</td>\n",
       "      <td>67</td>\n",
       "      <td>10/31/2018</td>\n",
       "      <td>2</td>\n",
       "      <td>married</td>\n",
       "      <td>132424</td>\n",
       "      <td>453</td>\n",
       "      <td>Regular Activity</td>\n",
       "      <td>Midwest</td>\n",
       "      <td>3</td>\n",
       "      <td>High Income</td>\n",
       "      <td>Has Dependent/s</td>\n",
       "      <td>babies</td>\n",
       "    </tr>\n",
       "    <tr>\n",
       "      <th>3276</th>\n",
       "      <td>728</td>\n",
       "      <td>2018336</td>\n",
       "      <td>50</td>\n",
       "      <td>50</td>\n",
       "      <td>1</td>\n",
       "      <td>11</td>\n",
       "      <td>3.0</td>\n",
       "      <td>False</td>\n",
       "      <td>5922</td>\n",
       "      <td>10</td>\n",
       "      <td>1</td>\n",
       "      <td>both</td>\n",
       "      <td>Honest Face, Hand, &amp; Baby Wipes</td>\n",
       "      <td>56</td>\n",
       "      <td>18</td>\n",
       "      <td>6.2</td>\n",
       "      <td>67</td>\n",
       "      <td>Loyal customer</td>\n",
       "      <td>7.899117</td>\n",
       "      <td>5.0</td>\n",
       "      <td>Frequent customer</td>\n",
       "      <td>Female</td>\n",
       "      <td>Wisconsin</td>\n",
       "      <td>67</td>\n",
       "      <td>10/31/2018</td>\n",
       "      <td>2</td>\n",
       "      <td>married</td>\n",
       "      <td>132424</td>\n",
       "      <td>453</td>\n",
       "      <td>Regular Activity</td>\n",
       "      <td>Midwest</td>\n",
       "      <td>3</td>\n",
       "      <td>High Income</td>\n",
       "      <td>Has Dependent/s</td>\n",
       "      <td>babies</td>\n",
       "    </tr>\n",
       "    <tr>\n",
       "      <th>3298</th>\n",
       "      <td>732</td>\n",
       "      <td>642111</td>\n",
       "      <td>50</td>\n",
       "      <td>54</td>\n",
       "      <td>6</td>\n",
       "      <td>10</td>\n",
       "      <td>3.0</td>\n",
       "      <td>False</td>\n",
       "      <td>1202</td>\n",
       "      <td>11</td>\n",
       "      <td>0</td>\n",
       "      <td>both</td>\n",
       "      <td>Organic Whole Grain Oatmeal Cereal Baby Food</td>\n",
       "      <td>92</td>\n",
       "      <td>18</td>\n",
       "      <td>5.8</td>\n",
       "      <td>67</td>\n",
       "      <td>Loyal customer</td>\n",
       "      <td>7.899117</td>\n",
       "      <td>5.0</td>\n",
       "      <td>Frequent customer</td>\n",
       "      <td>Female</td>\n",
       "      <td>Wisconsin</td>\n",
       "      <td>67</td>\n",
       "      <td>10/31/2018</td>\n",
       "      <td>2</td>\n",
       "      <td>married</td>\n",
       "      <td>132424</td>\n",
       "      <td>453</td>\n",
       "      <td>Regular Activity</td>\n",
       "      <td>Midwest</td>\n",
       "      <td>3</td>\n",
       "      <td>High Income</td>\n",
       "      <td>Has Dependent/s</td>\n",
       "      <td>babies</td>\n",
       "    </tr>\n",
       "    <tr>\n",
       "      <th>3468</th>\n",
       "      <td>913</td>\n",
       "      <td>584586</td>\n",
       "      <td>59</td>\n",
       "      <td>1</td>\n",
       "      <td>5</td>\n",
       "      <td>15</td>\n",
       "      <td>NaN</td>\n",
       "      <td>True</td>\n",
       "      <td>47719</td>\n",
       "      <td>4</td>\n",
       "      <td>0</td>\n",
       "      <td>both</td>\n",
       "      <td>Banana Raspberry &amp; Brown Rice Stage 2</td>\n",
       "      <td>92</td>\n",
       "      <td>18</td>\n",
       "      <td>9.6</td>\n",
       "      <td>10</td>\n",
       "      <td>New customer</td>\n",
       "      <td>7.176087</td>\n",
       "      <td>15.0</td>\n",
       "      <td>Regular customer</td>\n",
       "      <td>Male</td>\n",
       "      <td>Delaware</td>\n",
       "      <td>49</td>\n",
       "      <td>3/6/2017</td>\n",
       "      <td>2</td>\n",
       "      <td>married</td>\n",
       "      <td>71218</td>\n",
       "      <td>92</td>\n",
       "      <td>Regular Activity</td>\n",
       "      <td>South</td>\n",
       "      <td>2</td>\n",
       "      <td>Middle Income</td>\n",
       "      <td>Has Dependent/s</td>\n",
       "      <td>babies</td>\n",
       "    </tr>\n",
       "  </tbody>\n",
       "</table>\n",
       "</div>"
      ],
      "text/plain": [
       "      Unnamed: 0  order_id  user_id  order_number  orders_day_of_week  \\\n",
       "3274         700   3067010       50            22                   1   \n",
       "3275         715   2425696       50            37                   4   \n",
       "3276         728   2018336       50            50                   1   \n",
       "3298         732    642111       50            54                   6   \n",
       "3468         913    584586       59             1                   5   \n",
       "\n",
       "      order_hour_of_day  days_since_last_order  new_customer  product_id  \\\n",
       "3274                 12                    7.0         False        5922   \n",
       "3275                 15                    3.0         False        5922   \n",
       "3276                 11                    3.0         False        5922   \n",
       "3298                 10                    3.0         False        1202   \n",
       "3468                 15                    NaN          True       47719   \n",
       "\n",
       "      add_to_cart_order  reordered _merge  \\\n",
       "3274                  1          0   both   \n",
       "3275                  1          1   both   \n",
       "3276                 10          1   both   \n",
       "3298                 11          0   both   \n",
       "3468                  4          0   both   \n",
       "\n",
       "                                      product_name  aisle_id  department_id  \\\n",
       "3274               Honest Face, Hand, & Baby Wipes        56             18   \n",
       "3275               Honest Face, Hand, & Baby Wipes        56             18   \n",
       "3276               Honest Face, Hand, & Baby Wipes        56             18   \n",
       "3298  Organic Whole Grain Oatmeal Cereal Baby Food        92             18   \n",
       "3468         Banana Raspberry & Brown Rice Stage 2        92             18   \n",
       "\n",
       "      prices  max_order    loyalty_flag  avg_price  median_order_duration  \\\n",
       "3274     6.2         67  Loyal customer   7.899117                    5.0   \n",
       "3275     6.2         67  Loyal customer   7.899117                    5.0   \n",
       "3276     6.2         67  Loyal customer   7.899117                    5.0   \n",
       "3298     5.8         67  Loyal customer   7.899117                    5.0   \n",
       "3468     9.6         10    New customer   7.176087                   15.0   \n",
       "\n",
       "         Frequency_flag  gender      state  age date_joined  no_of_dependants  \\\n",
       "3274  Frequent customer  Female  Wisconsin   67  10/31/2018                 2   \n",
       "3275  Frequent customer  Female  Wisconsin   67  10/31/2018                 2   \n",
       "3276  Frequent customer  Female  Wisconsin   67  10/31/2018                 2   \n",
       "3298  Frequent customer  Female  Wisconsin   67  10/31/2018                 2   \n",
       "3468   Regular customer    Male   Delaware   49    3/6/2017                 2   \n",
       "\n",
       "     marital_status  income  total_orders     activity_flag   region  \\\n",
       "3274        married  132424           453  Regular Activity  Midwest   \n",
       "3275        married  132424           453  Regular Activity  Midwest   \n",
       "3276        married  132424           453  Regular Activity  Midwest   \n",
       "3298        married  132424           453  Regular Activity  Midwest   \n",
       "3468        married   71218            92  Regular Activity    South   \n",
       "\n",
       "     age_range    Income_flag   Dependent_flag department  \n",
       "3274         3    High Income  Has Dependent/s     babies  \n",
       "3275         3    High Income  Has Dependent/s     babies  \n",
       "3276         3    High Income  Has Dependent/s     babies  \n",
       "3298         3    High Income  Has Dependent/s     babies  \n",
       "3468         2  Middle Income  Has Dependent/s     babies  "
      ]
     },
     "execution_count": 30,
     "metadata": {},
     "output_type": "execute_result"
    }
   ],
   "source": [
    "parents.head()"
   ]
  },
  {
   "cell_type": "code",
   "execution_count": 31,
   "id": "e06cee95",
   "metadata": {},
   "outputs": [
    {
     "data": {
      "text/html": [
       "<div>\n",
       "<style scoped>\n",
       "    .dataframe tbody tr th:only-of-type {\n",
       "        vertical-align: middle;\n",
       "    }\n",
       "\n",
       "    .dataframe tbody tr th {\n",
       "        vertical-align: top;\n",
       "    }\n",
       "\n",
       "    .dataframe thead tr th {\n",
       "        text-align: left;\n",
       "    }\n",
       "\n",
       "    .dataframe thead tr:last-of-type th {\n",
       "        text-align: right;\n",
       "    }\n",
       "</style>\n",
       "<table border=\"1\" class=\"dataframe\">\n",
       "  <thead>\n",
       "    <tr>\n",
       "      <th></th>\n",
       "      <th colspan=\"3\" halign=\"left\">prices</th>\n",
       "    </tr>\n",
       "    <tr>\n",
       "      <th></th>\n",
       "      <th>mean</th>\n",
       "      <th>min</th>\n",
       "      <th>max</th>\n",
       "    </tr>\n",
       "    <tr>\n",
       "      <th>department</th>\n",
       "      <th></th>\n",
       "      <th></th>\n",
       "      <th></th>\n",
       "    </tr>\n",
       "  </thead>\n",
       "  <tbody>\n",
       "    <tr>\n",
       "      <th>babies</th>\n",
       "      <td>7.389474</td>\n",
       "      <td>1.8</td>\n",
       "      <td>14.5</td>\n",
       "    </tr>\n",
       "  </tbody>\n",
       "</table>\n",
       "</div>"
      ],
      "text/plain": [
       "              prices           \n",
       "                mean  min   max\n",
       "department                     \n",
       "babies      7.389474  1.8  14.5"
      ]
     },
     "execution_count": 31,
     "metadata": {},
     "output_type": "execute_result"
    }
   ],
   "source": [
    "#Aggregate for parent expenditure\n",
    "parents.groupby('department').agg({'prices': ['mean', 'min', 'max']})"
   ]
  },
  {
   "cell_type": "code",
   "execution_count": 32,
   "id": "3bc802b1",
   "metadata": {},
   "outputs": [
    {
     "data": {
      "text/html": [
       "<div>\n",
       "<style scoped>\n",
       "    .dataframe tbody tr th:only-of-type {\n",
       "        vertical-align: middle;\n",
       "    }\n",
       "\n",
       "    .dataframe tbody tr th {\n",
       "        vertical-align: top;\n",
       "    }\n",
       "\n",
       "    .dataframe thead th {\n",
       "        text-align: right;\n",
       "    }\n",
       "</style>\n",
       "<table border=\"1\" class=\"dataframe\">\n",
       "  <thead>\n",
       "    <tr style=\"text-align: right;\">\n",
       "      <th></th>\n",
       "      <th>prices</th>\n",
       "    </tr>\n",
       "    <tr>\n",
       "      <th>department</th>\n",
       "      <th></th>\n",
       "    </tr>\n",
       "  </thead>\n",
       "  <tbody>\n",
       "    <tr>\n",
       "      <th>dairy eggs</th>\n",
       "      <td>41908.9</td>\n",
       "    </tr>\n",
       "    <tr>\n",
       "      <th>produce</th>\n",
       "      <td>16202.6</td>\n",
       "    </tr>\n",
       "    <tr>\n",
       "      <th>beverages</th>\n",
       "      <td>9056.8</td>\n",
       "    </tr>\n",
       "    <tr>\n",
       "      <th>pantry</th>\n",
       "      <td>5086.0</td>\n",
       "    </tr>\n",
       "    <tr>\n",
       "      <th>frozen</th>\n",
       "      <td>5053.6</td>\n",
       "    </tr>\n",
       "    <tr>\n",
       "      <th>snacks</th>\n",
       "      <td>3580.9</td>\n",
       "    </tr>\n",
       "    <tr>\n",
       "      <th>meat seafood</th>\n",
       "      <td>2746.1</td>\n",
       "    </tr>\n",
       "    <tr>\n",
       "      <th>bakery</th>\n",
       "      <td>1989.1</td>\n",
       "    </tr>\n",
       "    <tr>\n",
       "      <th>canned goods</th>\n",
       "      <td>1790.0</td>\n",
       "    </tr>\n",
       "    <tr>\n",
       "      <th>deli</th>\n",
       "      <td>1684.9</td>\n",
       "    </tr>\n",
       "    <tr>\n",
       "      <th>dry goods pasta</th>\n",
       "      <td>1489.0</td>\n",
       "    </tr>\n",
       "    <tr>\n",
       "      <th>breakfast</th>\n",
       "      <td>1131.4</td>\n",
       "    </tr>\n",
       "    <tr>\n",
       "      <th>household</th>\n",
       "      <td>1083.9</td>\n",
       "    </tr>\n",
       "    <tr>\n",
       "      <th>personal care</th>\n",
       "      <td>905.0</td>\n",
       "    </tr>\n",
       "    <tr>\n",
       "      <th>alcohol</th>\n",
       "      <td>862.4</td>\n",
       "    </tr>\n",
       "    <tr>\n",
       "      <th>international</th>\n",
       "      <td>750.5</td>\n",
       "    </tr>\n",
       "    <tr>\n",
       "      <th>babies</th>\n",
       "      <td>280.8</td>\n",
       "    </tr>\n",
       "    <tr>\n",
       "      <th>pets</th>\n",
       "      <td>157.1</td>\n",
       "    </tr>\n",
       "    <tr>\n",
       "      <th>other</th>\n",
       "      <td>150.8</td>\n",
       "    </tr>\n",
       "    <tr>\n",
       "      <th>missing</th>\n",
       "      <td>129.4</td>\n",
       "    </tr>\n",
       "  </tbody>\n",
       "</table>\n",
       "</div>"
      ],
      "text/plain": [
       "                  prices\n",
       "department              \n",
       "dairy eggs       41908.9\n",
       "produce          16202.6\n",
       "beverages         9056.8\n",
       "pantry            5086.0\n",
       "frozen            5053.6\n",
       "snacks            3580.9\n",
       "meat seafood      2746.1\n",
       "bakery            1989.1\n",
       "canned goods      1790.0\n",
       "deli              1684.9\n",
       "dry goods pasta   1489.0\n",
       "breakfast         1131.4\n",
       "household         1083.9\n",
       "personal care      905.0\n",
       "alcohol            862.4\n",
       "international      750.5\n",
       "babies             280.8\n",
       "pets               157.1\n",
       "other              150.8\n",
       "missing            129.4"
      ]
     },
     "execution_count": 32,
     "metadata": {},
     "output_type": "execute_result"
    }
   ],
   "source": [
    "#Check on what department customers spend the most\n",
    "df[['prices', 'department']].groupby('department').agg('sum').sort_values(by ='prices', ascending=False)"
   ]
  },
  {
   "cell_type": "markdown",
   "id": "47ebb6c7",
   "metadata": {},
   "source": [
    "Customers spend most of all on dairy and eggs and least of all - on pets and the department labelled 'other'"
   ]
  },
  {
   "cell_type": "markdown",
   "id": "2a2e9536",
   "metadata": {},
   "source": [
    "## 3.2.5 Time of day grouping"
   ]
  },
  {
   "cell_type": "code",
   "execution_count": 33,
   "id": "edb9bb77",
   "metadata": {},
   "outputs": [
    {
     "data": {
      "text/plain": [
       "(936, 35)"
      ]
     },
     "execution_count": 33,
     "metadata": {},
     "output_type": "execute_result"
    }
   ],
   "source": [
    "#Time of day breakdown:\n",
    "#12:00 am - 05:59 am = Night\n",
    "#06:00 am - 11:59 pm = Morning\n",
    "#12:00 pm - 04:59 pm = Afternoon\n",
    "#05:00 pm - 11:59 pm = Evening \n",
    "        \n",
    "#Create a dataframe that lists orders without any duplicates \n",
    "df_ord = df.drop_duplicates(subset='order_id').copy()\n",
    "df_ord.shape        "
   ]
  },
  {
   "cell_type": "code",
   "execution_count": 34,
   "id": "912415be",
   "metadata": {},
   "outputs": [
    {
     "data": {
      "text/plain": [
       "Morning      386\n",
       "Afternoon    370\n",
       "Night          9\n",
       "Name: Time_of_day, dtype: int64"
      ]
     },
     "execution_count": 34,
     "metadata": {},
     "output_type": "execute_result"
    }
   ],
   "source": [
    "#Create list of break down of day \n",
    "df_ord.loc[(df_ord['order_hour_of_day'] > 0) & (df_ord['order_hour_of_day'] < 6), 'Time_of_day'] = 'Night'\n",
    "df_ord.loc[(df_ord['order_hour_of_day'] >= 6) & (df_ord['order_hour_of_day'] < 12), 'Time_of_day'] = 'Morning'\n",
    "df_ord.loc[(df_ord['order_hour_of_day'] >= 12) & (df_ord['order_hour_of_day'] < 17), 'Time_of_day'] = 'Afternoon'\n",
    "df_ord.loc[(df_ord['order_hour_of_day'] >= 17) & (df_ord['order_hour_of_day'] < 0), 'Time_of_day'] = 'Evening'\n",
    "df_ord['Time_of_day'].value_counts()"
   ]
  },
  {
   "cell_type": "markdown",
   "id": "f73e4b04",
   "metadata": {},
   "source": [
    "Most orders are made in the morning, less - at night time"
   ]
  },
  {
   "cell_type": "markdown",
   "id": "cb22016e",
   "metadata": {},
   "source": [
    "## 3.2.6 Time of week grouping"
   ]
  },
  {
   "cell_type": "code",
   "execution_count": 35,
   "id": "1ea9a42b",
   "metadata": {},
   "outputs": [
    {
     "data": {
      "text/plain": [
       "1    200\n",
       "5    141\n",
       "2    137\n",
       "0    127\n",
       "3    123\n",
       "6    106\n",
       "4    102\n",
       "Name: orders_day_of_week, dtype: int64"
      ]
     },
     "execution_count": 35,
     "metadata": {},
     "output_type": "execute_result"
    }
   ],
   "source": [
    "#Check for the frequnecy of orders on each day of the week\n",
    "df_ord['orders_day_of_week'].value_counts(dropna = False)"
   ]
  },
  {
   "cell_type": "markdown",
   "id": "ecda5cbe",
   "metadata": {},
   "source": [
    "Sunday (corresponding number 1) is the busiest day of the week. Wednesday (number 4) is the least busy."
   ]
  },
  {
   "cell_type": "markdown",
   "id": "7acd59cf",
   "metadata": {},
   "source": [
    "# 4 Visualizations of Profiles"
   ]
  },
  {
   "cell_type": "code",
   "execution_count": 36,
   "id": "873e9caa",
   "metadata": {},
   "outputs": [
    {
     "data": {
      "image/png": "[encoded data removed]",
      "text/plain": [
       "<Figure size 432x288 with 1 Axes>"
      ]
     },
     "metadata": {
      "needs_background": "light"
     },
     "output_type": "display_data"
    }
   ],
   "source": [
    "#Bar chart showing regional distribution of customers\n",
    "regional_bar=df['region'].value_counts().plot.bar(color='blue', fontsize=10)"
   ]
  },
  {
   "cell_type": "markdown",
   "id": "8f34b47a",
   "metadata": {},
   "source": [
    "The majority of customers are from West, the minority - from Northeast"
   ]
  },
  {
   "cell_type": "code",
   "execution_count": 38,
   "id": "9e6951ea",
   "metadata": {},
   "outputs": [
    {
     "data": {
      "image/png": "[encoded data removed]",
      "text/plain": [
       "<Figure size 432x288 with 1 Axes>"
      ]
     },
     "metadata": {
      "needs_background": "light"
     },
     "output_type": "display_data"
    }
   ],
   "source": [
    "#Create bar chart for orders made by each age group\n",
    "age_bar=df['age_range'].value_counts().plot.bar(color='green',fontsize=15)"
   ]
  },
  {
   "cell_type": "markdown",
   "id": "38c0f50f",
   "metadata": {},
   "source": [
    "Age range 1 = Young Adult >= 18 & <35\n",
    "\n",
    "Age range 2 = Adult >=35 & <65\n",
    "\n",
    "Age range 3 = Senior >= 65"
   ]
  },
  {
   "cell_type": "code",
   "execution_count": 39,
   "id": "47d2a692",
   "metadata": {},
   "outputs": [
    {
     "data": {
      "image/png": "[encoded data removed]",
      "text/plain": [
       "<Figure size 432x288 with 1 Axes>"
      ]
     },
     "metadata": {
      "needs_background": "light"
     },
     "output_type": "display_data"
    }
   ],
   "source": [
    "#Create stacked bar chart for age groups and income groups\n",
    "age_income_bar=df.groupby('age_range')['Income_flag'].value_counts().unstack().plot.bar(stacked=True,\n",
    "                                                    ylabel='counts',color=['brown','yellow','green'], fontsize=15)"
   ]
  },
  {
   "cell_type": "markdown",
   "id": "3607cb85",
   "metadata": {},
   "source": [
    "Highest income customers are in age group 2 (35-65). Lowest level of low income customers are in group 3 (65 and older)"
   ]
  },
  {
   "cell_type": "code",
   "execution_count": 40,
   "id": "2b9ce224",
   "metadata": {},
   "outputs": [
    {
     "data": {
      "image/png": "[encoded data removed]",
      "text/plain": [
       "<Figure size 432x288 with 1 Axes>"
      ]
     },
     "metadata": {
      "needs_background": "light"
     },
     "output_type": "display_data"
    }
   ],
   "source": [
    "#Create bar chart for orders made by each income group\n",
    "income_bar=df['Income_flag'].value_counts().sort_values().plot.bar(fontsize=20)"
   ]
  },
  {
   "cell_type": "markdown",
   "id": "ce8ea489",
   "metadata": {},
   "source": [
    "Less than 50,000 = Low Income;\n",
    "Between 50,000 - 120,000 = Middle Income;\n",
    "Above 120,000 = High Income"
   ]
  },
  {
   "cell_type": "code",
   "execution_count": 41,
   "id": "b1a47710",
   "metadata": {},
   "outputs": [
    {
     "data": {
      "image/png": "[encoded data removed]",
      "text/plain": [
       "<Figure size 432x288 with 1 Axes>"
      ]
     },
     "metadata": {
      "needs_background": "light"
     },
     "output_type": "display_data"
    }
   ],
   "source": [
    "#Explore if there’s a connection between age and spending power (income).\n",
    "#Create a scatterplot using the sns.scatterplot() function\n",
    "scatterplot_income = sns.scatterplot(x = 'age', y = 'income', data = df)"
   ]
  },
  {
   "cell_type": "markdown",
   "id": "f1dadcc9",
   "metadata": {},
   "source": [
    "The customers of age group 25-40 have income up to $100,000. The income of 40+ group almost doubles. The higher the age, the higher is the spending power. The highest spending power belongs to around 50 and 70 year olds."
   ]
  },
  {
   "cell_type": "code",
   "execution_count": 43,
   "id": "e7850ef9",
   "metadata": {},
   "outputs": [
    {
     "data": {
      "image/png": "[encoded data removed]",
      "text/plain": [
       "<Figure size 432x288 with 1 Axes>"
      ]
     },
     "metadata": {
      "needs_background": "light"
     },
     "output_type": "display_data"
    }
   ],
   "source": [
    "#Create bar chart showing the orders made by customers of each family status\n",
    "marital_bar=df['marital_status'].value_counts().sort_values().plot.bar(color='green', fontsize=10)"
   ]
  },
  {
   "cell_type": "markdown",
   "id": "c7a7b6ea",
   "metadata": {},
   "source": [
    "Married customers do more orders"
   ]
  },
  {
   "cell_type": "code",
   "execution_count": 45,
   "id": "79374a75",
   "metadata": {},
   "outputs": [
    {
     "data": {
      "image/png": "[encoded data removed]",
      "text/plain": [
       "<Figure size 432x288 with 1 Axes>"
      ]
     },
     "metadata": {
      "needs_background": "light"
     },
     "output_type": "display_data"
    }
   ],
   "source": [
    "#Create bar chart showing the amount of orders made by customers in each dependent flag\n",
    "dependent_bar=df['Dependent_flag'].value_counts().sort_values().plot.bar(color='blue', fontsize=15)"
   ]
  },
  {
   "cell_type": "markdown",
   "id": "90022ab0",
   "metadata": {},
   "source": [
    "Most customers have dependents"
   ]
  },
  {
   "cell_type": "code",
   "execution_count": 46,
   "id": "a338bdfc",
   "metadata": {},
   "outputs": [
    {
     "data": {
      "image/png": "[encoded data removed]",
      "text/plain": [
       "<Figure size 1008x864 with 1 Axes>"
      ]
     },
     "metadata": {
      "needs_background": "light"
     },
     "output_type": "display_data"
    }
   ],
   "source": [
    "#Create bar chart showing the orders made for each department\n",
    "department_bar=df.department.value_counts().sort_values().plot(kind = 'bar', figsize=[14,12])"
   ]
  },
  {
   "cell_type": "markdown",
   "id": "a1066bae",
   "metadata": {},
   "source": [
    "Produce department has the largest number of orders"
   ]
  },
  {
   "cell_type": "code",
   "execution_count": 47,
   "id": "0802fc43",
   "metadata": {},
   "outputs": [
    {
     "data": {
      "image/png": "[encoded data removed]",
      "text/plain": [
       "<Figure size 432x288 with 1 Axes>"
      ]
     },
     "metadata": {
      "needs_background": "light"
     },
     "output_type": "display_data"
    }
   ],
   "source": [
    "#Create a histogram displaying time of day when most orders are placed\n",
    "time_of_day_bar = df['order_hour_of_day'].plot.hist(bins = 50, color = 'blue')"
   ]
  },
  {
   "cell_type": "markdown",
   "id": "ac447f02",
   "metadata": {},
   "source": [
    "Most sales are done close to 11am with subsequent decline after noon. Sales activity at night is insignificant but still exists."
   ]
  },
  {
   "cell_type": "markdown",
   "id": "31da6975",
   "metadata": {},
   "source": [
    "### 4.1 Regions/Departments Comparison"
   ]
  },
  {
   "cell_type": "code",
   "execution_count": 48,
   "id": "6987fa95",
   "metadata": {},
   "outputs": [
    {
     "data": {
      "image/png": "[encoded data removed]",
      "text/plain": [
       "<Figure size 432x288 with 1 Axes>"
      ]
     },
     "metadata": {
      "needs_background": "light"
     },
     "output_type": "display_data"
    }
   ],
   "source": [
    "#Create line chart for products purchased in each department for region\n",
    "dep_region_cross=pd.crosstab(df['department'],df['region'], dropna=False).plot(kind='line')"
   ]
  },
  {
   "cell_type": "markdown",
   "id": "fb9a5282",
   "metadata": {},
   "source": [
    "The chart shows that, for example, West customers prefer goods from Pantry department more than South or Northeast customers"
   ]
  },
  {
   "cell_type": "code",
   "execution_count": 49,
   "id": "3e3024fd",
   "metadata": {},
   "outputs": [],
   "source": [
    "#Create subset with user_id and loyalty columns\n",
    "custumer_loyalty=df[['user_id','loyalty_flag']]\n",
    "# removing duplicate values\n",
    "custumer_loyalty_unique=custumer_loyalty.drop_duplicates()"
   ]
  },
  {
   "cell_type": "code",
   "execution_count": 50,
   "id": "7ddf61fa",
   "metadata": {},
   "outputs": [
    {
     "data": {
      "text/plain": [
       "New customer        36\n",
       "Regular customer    25\n",
       "Loyal customer       3\n",
       "Name: loyalty_flag, dtype: int64"
      ]
     },
     "execution_count": 50,
     "metadata": {},
     "output_type": "execute_result"
    }
   ],
   "source": [
    "custumer_loyalty_unique['loyalty_flag'].value_counts()"
   ]
  },
  {
   "cell_type": "code",
   "execution_count": 51,
   "id": "b7532650",
   "metadata": {},
   "outputs": [
    {
     "data": {
      "image/png": "[encoded data removed]",
      "text/plain": [
       "<Figure size 432x288 with 1 Axes>"
      ]
     },
     "metadata": {},
     "output_type": "display_data"
    }
   ],
   "source": [
    "#Create pie chart for loyalty_flag\n",
    "labels = 'New customer', 'Regular customer', 'Loyal customer'\n",
    "sizes = custumer_loyalty_unique['loyalty_flag'].value_counts()\n",
    "colors = ['yellow','green','blue']\n",
    "textprops = {\"fontsize\":15}\n",
    "\n",
    "loyal, ax = plt.subplots()\n",
    "ax.pie(sizes,labels=labels,colors=colors,autopct='%1.1f%%',\n",
    "        shadow=True, startangle=90,textprops=textprops)\n",
    "ax.axis('equal')  \n",
    "\n",
    "plt.legend()\n",
    "plt.show()\n",
    "loyal.savefig ('loyal_pie.png', bbox_inches='tight')"
   ]
  },
  {
   "cell_type": "markdown",
   "id": "2c91a741",
   "metadata": {},
   "source": [
    "# Export Final Data Set & Visualizations"
   ]
  },
  {
   "cell_type": "code",
   "execution_count": null,
   "id": "64f4fa2c",
   "metadata": {},
   "outputs": [],
   "source": [
    "#Export final dataset\n",
    "df.to_pickle(os.path.join(path, 'Data','Prepared Data', 'final_dataset.pkl'))"
   ]
  },
  {
   "cell_type": "code",
   "execution_count": null,
   "id": "07812e4e",
   "metadata": {},
   "outputs": [],
   "source": [
    "#Export bar chart showing regional distribution of customers\n",
    "regional_bar.figure.savefig(os.path.join(path, 'Analysis','Visualizations', 'regional_bar.png'))"
   ]
  },
  {
   "cell_type": "code",
   "execution_count": null,
   "id": "39cb7df5",
   "metadata": {},
   "outputs": [],
   "source": [
    "#Export bar chart shoing orders made by each age group\n",
    "age_bar.figure.savefig(os.path.join(path, 'Analysis','Visualizations', 'age_bar.png'))"
   ]
  },
  {
   "cell_type": "code",
   "execution_count": null,
   "id": "bd1d810a",
   "metadata": {},
   "outputs": [],
   "source": [
    "#Export stacked bar chart for age groups and income groups\n",
    "age_income_bar.figure.savefig(os.path.join(path, 'Analysis','Visualizations', 'age_income__bar.png'))"
   ]
  },
  {
   "cell_type": "code",
   "execution_count": null,
   "id": "551709d1",
   "metadata": {},
   "outputs": [],
   "source": [
    "#Export bar chart for orders made by each income group\n",
    "income_bar.figure.savefig(os.path.join(path, 'Analysis','Visualizations', 'income__bar.png'))"
   ]
  },
  {
   "cell_type": "code",
   "execution_count": null,
   "id": "00ef0b36",
   "metadata": {},
   "outputs": [],
   "source": [
    "#Export scatterplot showing the connection between age and spending power (income)\n",
    "scatterplot_income.figure.savefig(os.path.join(path, 'Analysis','Visualizations', 'age_income.png'))"
   ]
  },
  {
   "cell_type": "code",
   "execution_count": null,
   "id": "d85fa45c",
   "metadata": {},
   "outputs": [],
   "source": [
    "#Export bar chart showing the orders made by customers of each family status\n",
    "marital_bar.figure.savefig(os.path.join(path, 'Analysis','Visualizations', 'marital_bar.png'))"
   ]
  },
  {
   "cell_type": "code",
   "execution_count": 52,
   "id": "734b7669",
   "metadata": {},
   "outputs": [],
   "source": [
    "#Export bar chart showing the amount of orders made by customers in each dependent flag\n",
    "dependent_bar.figure.savefig(os.path.join(path, 'Analysis','Visualizations', 'dependent_bar.png'))"
   ]
  },
  {
   "cell_type": "code",
   "execution_count": null,
   "id": "525cab25",
   "metadata": {},
   "outputs": [],
   "source": [
    "#Export bar chart showing the orders made for each department\n",
    "department_bar.figure.savefig(os.path.join(path, 'Analysis','Visualizations', 'department_bar.png'))"
   ]
  },
  {
   "cell_type": "code",
   "execution_count": null,
   "id": "f03fc663",
   "metadata": {},
   "outputs": [],
   "source": [
    "#Export histogram displaying time of day when most orders are placed\n",
    "time_of_day_bar.figure.savefig(os.path.join(path, 'Analysis','Visualizations', 'time_of_day_bar.png'))"
   ]
  },
  {
   "cell_type": "code",
   "execution_count": null,
   "id": "f5c0c252",
   "metadata": {},
   "outputs": [],
   "source": [
    "#Export line chart for products purchased in each department for region\n",
    "dep_region_cross.figure.savefig(os.path.join(path, 'Analysis','Visualizations', 'dep_region_cross.png'))"
   ]
  },
  {
   "cell_type": "code",
   "execution_count": null,
   "id": "a5d995b9",
   "metadata": {},
   "outputs": [],
   "source": [
    "#Export loyalty pie chart \n",
    "loyal.figure.savefig(os.path.join(path, 'Analysis','Visualizations', 'loyal_pie.png'))"
   ]
  },
  {
   "cell_type": "code",
   "execution_count": null,
   "id": "c00b8d1e",
   "metadata": {},
   "outputs": [],
   "source": [
    "#Export bar chart showing regional distribution of customers\n",
    "regional_bar.figure.savefig(os.path.join(path, 'Analysis','Visualizations', 'regional_bar.png'))"
   ]
  }
 ],
 "metadata": {
  "kernelspec": {
   "display_name": "Python 3 (ipykernel)",
   "language": "python",
   "name": "python3"
  },
  "language_info": {
   "codemirror_mode": {
    "name": "ipython",
    "version": 3
   },
   "file_extension": ".py",
   "mimetype": "text/x-python",
   "name": "python",
   "nbconvert_exporter": "python",
   "pygments_lexer": "ipython3",
   "version": "3.9.12"
  }
 },
 "nbformat": 4,
 "nbformat_minor": 5
}
